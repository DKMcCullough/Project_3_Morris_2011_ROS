{
 "cells": [
  {
   "cell_type": "markdown",
   "id": "f54f72be",
   "metadata": {},
   "source": [
    "## Project 3 : Morris_2011_ROS\n"
   ]
  },
  {
   "cell_type": "markdown",
   "id": "525539c1",
   "metadata": {},
   "source": []
  },
  {
   "cell_type": "markdown",
   "id": "b691fbe2",
   "metadata": {},
   "source": [
    "### Description: "
   ]
  },
  {
   "cell_type": "markdown",
   "id": "8aa0ef2c",
   "metadata": {},
   "source": [
    "Exogenous HOOH concentrations from a Pro, Heterotroph, HOOH assay. Have HOOH concentrations for HOOH only, Pro and HOOH, EZ55 and HOOH, and Pro, EZ55, and HOOH data sets. Currently working to include biotic decay into the trials involving microbial additions. "
   ]
  },
  {
   "cell_type": "code",
   "execution_count": 2,
   "id": "db82164f",
   "metadata": {},
   "outputs": [],
   "source": [
    "from scipy import *\n",
    "from scipy.integrate import *\n",
    "import pandas as pd\n",
    "import numpy as np      \n",
    "import matplotlib.pyplot as plt  "
   ]
  },
  {
   "cell_type": "code",
   "execution_count": 3,
   "id": "04236d5d",
   "metadata": {},
   "outputs": [],
   "source": [
    "HOOH_times = np.array([1.3773e-3, 1.1365, 2.2317, 7.0624])"
   ]
  },
  {
   "cell_type": "code",
   "execution_count": 4,
   "id": "314bb220",
   "metadata": {},
   "outputs": [],
   "source": [
    "HOOH_data = np.array([-1.2634,0.1832,0.3458,0.6995])"
   ]
  },
  {
   "cell_type": "code",
   "execution_count": 5,
   "id": "0f19b739",
   "metadata": {},
   "outputs": [
    {
     "data": {
      "image/png": "[encoded data removed]",
      "text/plain": [
       "<Figure size 432x288 with 1 Axes>"
      ]
     },
     "metadata": {
      "needs_background": "light"
     },
     "output_type": "display_data"
    }
   ],
   "source": [
    " \n",
    "\n",
    "'''\n",
    "\n",
    "\n",
    "###############################\n",
    "\n",
    "#  Importing the data frame\n",
    "\n",
    "###############################\n",
    "\n",
    " \n",
    "HOOH_df = pd.read_csv('../data/hooh_blank.txt', delimiter =',', header= None, names =( 'Time (1/days)','HOOH concentration'))\n",
    "\n",
    "\n",
    "\n",
    "\n",
    "##############################\n",
    "\n",
    "#   data arrays\n",
    "\n",
    "###############################\n",
    "\n",
    "HOOH_data = 10**np.array(HOOH_df.iloc[:,1])   #raised to 10 because ot the way data thief recorded the data and its scale\n",
    "\n",
    "#print(HOOH_data)\n",
    "\n",
    "\n",
    "\n",
    "\n",
    "\n",
    "##############################\n",
    "\n",
    "#   time arrays\n",
    "\n",
    "##############################\n",
    "\n",
    "\n",
    "HOOH_times =np.array(HOOH_df.iloc[:,0])\n",
    "#print(HOOH_times)\n",
    "\n",
    "\n",
    "\n",
    "'''\n",
    "\n",
    "##############################\n",
    "\n",
    "#    graphing the data \n",
    "\n",
    "##############################\n",
    "\n",
    "\n",
    "plt.scatter(HOOH_times, HOOH_data, marker = 'x', s=50, c = 'r', label = 'Measured HOOH') \n",
    "plt.xlabel('Time (day $^{-1}$)', fontsize=16) \n",
    "plt.ylabel('HOOH concentration (\\u03BCM)',fontsize=16)\n",
    "plt.yscale('log')\n",
    "plt.tick_params(labelsize=12)\n",
    "#plt.show()\n",
    "\n",
    "\n",
    "Hs = HOOH_data\n",
    "Ts = HOOH_times\n",
    "\n",
    "Hsd = np.std(Hs)     #getting numpy to find the stdv of the data (but really will probs be 0.1 bc the data set doesn't have triplicates in it. \n",
    "\n",
    "\n",
    "\n",
    "\n",
    "####################################\n",
    "\n",
    "#analytical solution\n",
    "\n",
    "####################################\n",
    "\n",
    "#initial values and creating time array\n",
    "\n",
    "delta = 0.7\n",
    "S_HOOH = 0.5\n",
    "step = 0.05 #delta t\n",
    "ndays = 7\n",
    "times = np.linspace(0,ndays,int(ndays/step))\n",
    "\n",
    "def f(t, S_HOOH, delta):\n",
    "\tH = (S_HOOH/delta)*(1-e**(-delta*t))\n",
    "\treturn H\n",
    "\n",
    "Hs = f(times,S_HOOH,delta)\n",
    "#print(times,Hs) \n",
    "\n",
    "\n",
    "plt.plot(times,Hs,c='g',marker='*',label='Analytical Solution')\n",
    "\n",
    "\n",
    "\n",
    "\n",
    "\n",
    "\n",
    "#############################\n",
    "\n",
    "#Euler's Integration\n",
    "\n",
    "############################\n",
    "\n",
    "HsEuler = np.array([]) \n",
    "H = 0.0\n",
    "t0 = 0\n",
    "\n",
    "for t in times: \n",
    "\tHsEuler = np.append(HsEuler,H)\n",
    "\tdHdt = S_HOOH - delta*H\n",
    "\tH = H + dHdt*step\n",
    "\t\n",
    "plt.plot(times,HsEuler,c='k',label = \"Euler's Aproximation\")\n",
    "\n",
    "plt.legend()\n",
    "\n",
    "#plt.show()\n",
    "\n",
    "\n",
    "\n",
    "####################################\n",
    "\n",
    "#ODE int\n",
    "\n",
    "####################################\n",
    "\n",
    "\n",
    "from scipy.integrate import odeint\n",
    "\n",
    "def HsODEint(H,t):\n",
    "\tdHdt = S_HOOH-delta*H\n",
    "\t#print(dHdt,t,H)\n",
    "\treturn dHdt\n",
    "\n",
    "\n",
    "ode_solutions = odeint(HsODEint,0,times)\n",
    "\n",
    "\n",
    "plt.plot(times,ode_solutions,c='purple', linestyle = ':', label = 'Odeint Approximation')\n",
    "\n",
    "plt.legend()\n",
    "\n",
    "plt.show()\n",
    "\n",
    "\t\n",
    "\n",
    "\n",
    "\n",
    "\n",
    "\t\n",
    "\t\n"
   ]
  },
  {
   "cell_type": "markdown",
   "id": "bbbdc9e6",
   "metadata": {},
   "source": [
    "            "
   ]
  },
  {
   "cell_type": "markdown",
   "id": "e9969b1a",
   "metadata": {},
   "source": [
    "HOOH curve with biotic degredation occuring"
   ]
  },
  {
   "cell_type": "code",
   "execution_count": 12,
   "id": "fd6bcb7b",
   "metadata": {},
   "outputs": [],
   "source": [
    "HOOH_times = np.array([-0.0347,0.2759,0.6133, 1.1197, 2.1836, 7.2013])"
   ]
  },
  {
   "cell_type": "code",
   "execution_count": 13,
   "id": "9f21ba54",
   "metadata": {},
   "outputs": [],
   "source": [
    "HOOH_data = np.array([-1.502,-0.737,-0.9599,-1.2818,-1.2014,-1.2925])"
   ]
  },
  {
   "cell_type": "code",
   "execution_count": 19,
   "id": "98abc23a",
   "metadata": {},
   "outputs": [
    {
     "data": {
      "image/png": "[encoded data removed]",
      "text/plain": [
       "<Figure size 432x288 with 1 Axes>"
      ]
     },
     "metadata": {
      "needs_background": "light"
     },
     "output_type": "display_data"
    },
    {
     "data": {
      "text/plain": [
       "<matplotlib.legend.Legend at 0x7f9e0b928278>"
      ]
     },
     "execution_count": 19,
     "metadata": {},
     "output_type": "execute_result"
    },
    {
     "data": {
      "image/png": "[encoded data removed]",
      "text/plain": [
       "<Figure size 432x288 with 1 Axes>"
      ]
     },
     "metadata": {
      "needs_background": "light"
     },
     "output_type": "display_data"
    }
   ],
   "source": [
    "'''\n",
    "\n",
    "###############################\n",
    "\n",
    "#  Importing the data frame\n",
    "\n",
    "###############################\n",
    "\n",
    " \n",
    "HOOH_df = pd.read_csv('../data/hooh_ez55.txt', delimiter =',', header= None, names =( 'Time (1/days)','HOOH concentration'))\n",
    "\n",
    "\n",
    "\n",
    "\n",
    "##############################\n",
    "\n",
    "#   data arrays\n",
    "\n",
    "###############################\n",
    "\n",
    "HOOH_data = 10**np.array(HOOH_df.iloc[:,1])   #raised to 10 because ot the way data thief recorded the data and its scale\n",
    "\n",
    "#print(HOOH_data)\n",
    "\n",
    "\n",
    "\n",
    "\n",
    "\n",
    "##############################\n",
    "\n",
    "#   time arrays\n",
    "\n",
    "##############################\n",
    "\n",
    "\n",
    "HOOH_times =np.array(HOOH_df.iloc[:,0])\n",
    "#print(HOOH_times)\n",
    "\n",
    "'''\n",
    "\n",
    "\n",
    "\n",
    "##############################\n",
    "\n",
    "#    graphing the data \n",
    "\n",
    "##############################\n",
    "\n",
    "\n",
    "plt.scatter(HOOH_times, HOOH_data, marker = 'x', c = 'r', label = 'Measured HOOH') \n",
    "plt.xlabel('Time (day $^{-1}$)') \n",
    "plt.ylabel('HOOH concentration')\n",
    "\n",
    "plt.show()\n",
    "\n",
    "\n",
    "Hs = HOOH_data\n",
    "Ts = HOOH_times\n",
    "\n",
    "Hsd = np.std(Hs)     #getting numpy to find the stdv of the data (but really will probs be 0.1 bc the data set doesn't have triplicates in it. \n",
    "\n",
    "\n",
    "\n",
    "\n",
    "####################################\n",
    "\n",
    "#analytical solution\n",
    "\n",
    "####################################\n",
    "\n",
    "#initial values and creating time array\n",
    "\n",
    "delta = 5\n",
    "S_HOOH = 0.5\n",
    "step = 0.3 #delta t\n",
    "ndays = 7\n",
    "times = np.linspace(0,ndays,int(ndays/step))\n",
    "\n",
    "def f(t, S_HOOH, delta):\n",
    "\tH = (S_HOOH/delta)*(1-e**(-delta*t))\n",
    "\treturn H\n",
    "\n",
    "Hs = f(times,S_HOOH,delta)\n",
    "#print(times,Hs) \n",
    "\n",
    "\n",
    "plt.plot(times,Hs,c='g',marker='*',label='Analytical Solution')\n",
    "\n",
    "\n",
    "\n",
    "\n",
    "\n",
    "#############################\n",
    "\n",
    "#Euler's Integration\n",
    "\n",
    "############################\n",
    "\n",
    "HsEuler = np.array([]) \n",
    "H = 0.0\n",
    "t0 = 0 \n",
    "\n",
    "#initial values and creating time array\n",
    "\n",
    "delta = 5\n",
    "S_HOOH = 0.5\n",
    "step = 0.3 #delta t\n",
    "ndays = 7\n",
    "times = np.linspace(0,ndays,int(ndays/step))\n",
    "\n",
    "for t in times: \n",
    "\tHsEuler = np.append(HsEuler,H)\n",
    "\tdHdt = S_HOOH - delta*H\n",
    "\tH = H + dHdt*step\n",
    "\t\n",
    "plt.plot(times,HsEuler,c='b',label = \"Euler's Aproximation\")\n",
    "\n",
    "plt.legend()\n",
    "\n",
    "#plt.show()\n",
    "\n",
    "\n",
    "\n",
    "####################################\n",
    "\n",
    "#ODE int\n",
    "\n",
    "####################################\n",
    "\n",
    "\n",
    "from scipy.integrate import odeint\n",
    "\n",
    "def HsODEint(H,t):\n",
    "\tdHdt = S_HOOH-delta*H\n",
    "\t#print(dHdt,t,H)\n",
    "\treturn dHdt\n",
    "\n",
    "\n",
    "ode_solutions = odeint(HsODEint,0,times)\n",
    "\n",
    "\n",
    "plt.plot(times,ode_solutions,c='purple', marker = '.', linestyle = ':', label = 'Odeint Approximation')\n",
    "\n",
    "plt.legend()\n",
    "\n",
    "#plt.show()\n"
   ]
  },
  {
   "cell_type": "markdown",
   "id": "2a5c29c1",
   "metadata": {},
   "source": [
    "**Thoughts on this data:**\n",
    "\n",
    "- The assay from which the HOOH data was take also has Pro + HOOH, EZ55 + HOOH, Pro + EZ55 +HOOH) so this most likely will be the data set we use to first test out putting the 3 together in a modeling sense. \n",
    "    - HOOH concentration values. (Need to see if cell abundance measures are recoverable from the in this set. Graphs exist but all the data is clumped up so I'm not sure it will digitize well. Probs could also go to the source.) This would allow us to try and get a 'per cell' damage or detoxification rate for the Pro or EZ55 respectively. \n",
    "- Currently plan to have an additive  first iteration for including biotic degredation but am prepared to test with multiplicative or power law relationship as well.\n",
    "    - (Answering \"what to do with biotic dacay term when putting it into the model since there will already be an abiotic loss term?\")"
   ]
  },
  {
   "cell_type": "markdown",
   "id": "8bf7fced",
   "metadata": {},
   "source": [
    "**Hypotheses**:  \n",
    "\n",
    "- HOOH biotic degredation is the greater component of loss in this system when compared to abiotic\n",
    "\n",
    "- HOOH biotic degredation is a function of the growth of the detoxifying microbe, thus if the microbe is nutrient stressed, detoxification ability will be decreased. \n",
    "    - Not sure this signal will be recoverable if nutrient stress is acute enough to immediately kill culture though. \n",
    "    - \"HOOH detox ability differs among various Prochlorococcus community members based first on innate detox ability and secondly on the nutritional state of each detoxifier.\" "
   ]
  },
  {
   "cell_type": "code",
   "execution_count": null,
   "id": "364f4e23",
   "metadata": {},
   "outputs": [],
   "source": []
  }
 ],
 "metadata": {
  "kernelspec": {
   "display_name": "Python 3 (ipykernel)",
   "language": "python",
   "name": "python3"
  },
  "language_info": {
   "codemirror_mode": {
    "name": "ipython",
    "version": 3
   },
   "file_extension": ".py",
   "mimetype": "text/x-python",
   "name": "python",
   "nbconvert_exporter": "python",
   "pygments_lexer": "ipython3",
   "version": "3.7.2"
  }
 },
 "nbformat": 4,
 "nbformat_minor": 5
}
